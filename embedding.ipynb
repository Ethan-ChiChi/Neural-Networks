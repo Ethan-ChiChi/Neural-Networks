{
 "cells": [
  {
   "cell_type": "code",
   "execution_count": 2,
   "metadata": {},
   "outputs": [],
   "source": [
    "import torch\n",
    "import torch.nn as nn"
   ]
  },
  {
   "cell_type": "code",
   "execution_count": 25,
   "metadata": {},
   "outputs": [
    {
     "data": {
      "text/plain": [
       "Embedding(10, 2)"
      ]
     },
     "execution_count": 25,
     "metadata": {},
     "output_type": "execute_result"
    }
   ],
   "source": [
    "embedding = torch.nn.Embedding(10, 2) # (size of the dictionary of embeddings, the size of each embedding vector )\n",
    "embedding # this shape is also the shape of learnable weights "
   ]
  },
  {
   "cell_type": "code",
   "execution_count": 23,
   "metadata": {},
   "outputs": [
    {
     "data": {
      "text/plain": [
       "(Parameter containing:\n",
       " tensor([[ 0.7597,  1.7374],\n",
       "         [ 0.1892, -1.6730],\n",
       "         [ 0.5094,  1.4136],\n",
       "         [ 0.4732,  0.0168],\n",
       "         [ 0.2382, -0.8524],\n",
       "         [-0.0880,  0.3129],\n",
       "         [-2.2461, -0.6322],\n",
       "         [ 0.3533,  0.0156],\n",
       "         [-2.5434, -0.6940],\n",
       "         [-0.0194,  1.5078]], requires_grad=True), torch.Size([10, 2]))"
      ]
     },
     "execution_count": 23,
     "metadata": {},
     "output_type": "execute_result"
    }
   ],
   "source": [
    "embedding.weight, embedding.weight.shape"
   ]
  },
  {
   "cell_type": "code",
   "execution_count": 10,
   "metadata": {},
   "outputs": [
    {
     "data": {
      "text/plain": [
       "(tensor([[0, 1],\n",
       "         [2, 3],\n",
       "         [4, 5]]), torch.Size([3, 2]))"
      ]
     },
     "execution_count": 10,
     "metadata": {},
     "output_type": "execute_result"
    }
   ],
   "source": [
    "input = torch.arange(0, 6).reshape(3, 2).long() # input must be LongTensor, get 2 group each batch, each group has 2 words\n",
    "input, input.shape # (the size of batch, the number of word in each batch)"
   ]
  },
  {
   "cell_type": "code",
   "execution_count": 18,
   "metadata": {},
   "outputs": [
    {
     "data": {
      "text/plain": [
       "(tensor([[[ 0.0322,  2.9780],\n",
       "          [-0.8769,  0.6011]],\n",
       " \n",
       "         [[ 0.0030, -0.2877],\n",
       "          [-0.4961,  0.6808]],\n",
       " \n",
       "         [[ 2.1389, -0.4579],\n",
       "          [ 1.6143, -0.3068]]], grad_fn=<EmbeddingBackward>),\n",
       " torch.Size([3, 2, 2]))"
      ]
     },
     "execution_count": 18,
     "metadata": {},
     "output_type": "execute_result"
    }
   ],
   "source": [
    "output = embedding(input)\n",
    "output, output.shape # (input shape, embedding_dim)"
   ]
  },
  {
   "cell_type": "code",
   "execution_count": 20,
   "metadata": {},
   "outputs": [
    {
     "data": {
      "text/plain": [
       "(Parameter containing:\n",
       " tensor([[ 0.0322,  2.9780],\n",
       "         [-0.8769,  0.6011],\n",
       "         [ 0.0030, -0.2877],\n",
       "         [-0.4961,  0.6808],\n",
       "         [ 2.1389, -0.4579],\n",
       "         [ 1.6143, -0.3068],\n",
       "         [-0.4207, -0.9469],\n",
       "         [-0.8625,  0.6693],\n",
       "         [ 0.5372,  1.4874],\n",
       "         [-0.7305,  2.4571]], requires_grad=True), torch.Size([10, 2]))"
      ]
     },
     "execution_count": 20,
     "metadata": {},
     "output_type": "execute_result"
    }
   ],
   "source": []
  },
  {
   "cell_type": "code",
   "execution_count": null,
   "metadata": {},
   "outputs": [],
   "source": []
  }
 ],
 "metadata": {
  "kernelspec": {
   "display_name": "Python 3",
   "language": "python",
   "name": "python3"
  },
  "language_info": {
   "codemirror_mode": {
    "name": "ipython",
    "version": 3
   },
   "file_extension": ".py",
   "mimetype": "text/x-python",
   "name": "python",
   "nbconvert_exporter": "python",
   "pygments_lexer": "ipython3",
   "version": "3.7.4"
  }
 },
 "nbformat": 4,
 "nbformat_minor": 2
}
